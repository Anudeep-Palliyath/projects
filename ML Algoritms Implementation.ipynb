{
 "cells": [
  {
   "cell_type": "code",
   "execution_count": 1,
   "id": "895af06d",
   "metadata": {},
   "outputs": [],
   "source": [
    "import pandas as pd\n",
    "import numpy as np"
   ]
  },
  {
   "cell_type": "code",
   "execution_count": 2,
   "id": "503d5663",
   "metadata": {},
   "outputs": [],
   "source": [
    "#reading the dataset in CSV format\n",
    "dataset=pd.read_csv('UNR-IDD.csv')"
   ]
  },
  {
   "cell_type": "code",
   "execution_count": 3,
   "id": "dc2e400c",
   "metadata": {},
   "outputs": [
    {
     "data": {
      "text/html": [
       "<div>\n",
       "<style scoped>\n",
       "    .dataframe tbody tr th:only-of-type {\n",
       "        vertical-align: middle;\n",
       "    }\n",
       "\n",
       "    .dataframe tbody tr th {\n",
       "        vertical-align: top;\n",
       "    }\n",
       "\n",
       "    .dataframe thead th {\n",
       "        text-align: right;\n",
       "    }\n",
       "</style>\n",
       "<table border=\"1\" class=\"dataframe\">\n",
       "  <thead>\n",
       "    <tr style=\"text-align: right;\">\n",
       "      <th></th>\n",
       "      <th>Switch ID</th>\n",
       "      <th>Port Number</th>\n",
       "      <th>Received Packets</th>\n",
       "      <th>Received Bytes</th>\n",
       "      <th>Sent Bytes</th>\n",
       "      <th>Sent Packets</th>\n",
       "      <th>Port alive Duration (S)</th>\n",
       "      <th>Packets Rx Dropped</th>\n",
       "      <th>Packets Tx Dropped</th>\n",
       "      <th>Packets Rx Errors</th>\n",
       "      <th>...</th>\n",
       "      <th>Unknown Load/Latest</th>\n",
       "      <th>Latest bytes counter</th>\n",
       "      <th>is_valid</th>\n",
       "      <th>Table ID</th>\n",
       "      <th>Active Flow Entries</th>\n",
       "      <th>Packets Looked Up</th>\n",
       "      <th>Packets Matched</th>\n",
       "      <th>Max Size</th>\n",
       "      <th>Label</th>\n",
       "      <th>Binary Label</th>\n",
       "    </tr>\n",
       "  </thead>\n",
       "  <tbody>\n",
       "    <tr>\n",
       "      <th>0</th>\n",
       "      <td>of:000000000000000c</td>\n",
       "      <td>Port#:1</td>\n",
       "      <td>132</td>\n",
       "      <td>9181</td>\n",
       "      <td>6311853</td>\n",
       "      <td>238</td>\n",
       "      <td>46</td>\n",
       "      <td>0</td>\n",
       "      <td>0</td>\n",
       "      <td>0</td>\n",
       "      <td>...</td>\n",
       "      <td>0</td>\n",
       "      <td>0</td>\n",
       "      <td>True</td>\n",
       "      <td>0</td>\n",
       "      <td>9</td>\n",
       "      <td>767</td>\n",
       "      <td>688</td>\n",
       "      <td>-1</td>\n",
       "      <td>TCP-SYN</td>\n",
       "      <td>Attack</td>\n",
       "    </tr>\n",
       "    <tr>\n",
       "      <th>1</th>\n",
       "      <td>of:000000000000000c</td>\n",
       "      <td>Port#:2</td>\n",
       "      <td>187</td>\n",
       "      <td>6304498</td>\n",
       "      <td>15713</td>\n",
       "      <td>171</td>\n",
       "      <td>46</td>\n",
       "      <td>0</td>\n",
       "      <td>0</td>\n",
       "      <td>0</td>\n",
       "      <td>...</td>\n",
       "      <td>0</td>\n",
       "      <td>0</td>\n",
       "      <td>True</td>\n",
       "      <td>0</td>\n",
       "      <td>9</td>\n",
       "      <td>767</td>\n",
       "      <td>688</td>\n",
       "      <td>-1</td>\n",
       "      <td>TCP-SYN</td>\n",
       "      <td>Attack</td>\n",
       "    </tr>\n",
       "    <tr>\n",
       "      <th>2</th>\n",
       "      <td>of:000000000000000c</td>\n",
       "      <td>Port#:3</td>\n",
       "      <td>235</td>\n",
       "      <td>6311567</td>\n",
       "      <td>8030</td>\n",
       "      <td>58</td>\n",
       "      <td>46</td>\n",
       "      <td>0</td>\n",
       "      <td>0</td>\n",
       "      <td>0</td>\n",
       "      <td>...</td>\n",
       "      <td>0</td>\n",
       "      <td>0</td>\n",
       "      <td>True</td>\n",
       "      <td>0</td>\n",
       "      <td>9</td>\n",
       "      <td>767</td>\n",
       "      <td>688</td>\n",
       "      <td>-1</td>\n",
       "      <td>TCP-SYN</td>\n",
       "      <td>Attack</td>\n",
       "    </tr>\n",
       "    <tr>\n",
       "      <th>3</th>\n",
       "      <td>of:000000000000000c</td>\n",
       "      <td>Port#:4</td>\n",
       "      <td>59</td>\n",
       "      <td>7878</td>\n",
       "      <td>16439</td>\n",
       "      <td>182</td>\n",
       "      <td>46</td>\n",
       "      <td>0</td>\n",
       "      <td>0</td>\n",
       "      <td>0</td>\n",
       "      <td>...</td>\n",
       "      <td>0</td>\n",
       "      <td>0</td>\n",
       "      <td>True</td>\n",
       "      <td>0</td>\n",
       "      <td>9</td>\n",
       "      <td>767</td>\n",
       "      <td>688</td>\n",
       "      <td>-1</td>\n",
       "      <td>TCP-SYN</td>\n",
       "      <td>Attack</td>\n",
       "    </tr>\n",
       "    <tr>\n",
       "      <th>4</th>\n",
       "      <td>of:000000000000000a</td>\n",
       "      <td>Port#:1</td>\n",
       "      <td>188</td>\n",
       "      <td>6304547</td>\n",
       "      <td>16497</td>\n",
       "      <td>183</td>\n",
       "      <td>46</td>\n",
       "      <td>0</td>\n",
       "      <td>0</td>\n",
       "      <td>0</td>\n",
       "      <td>...</td>\n",
       "      <td>0</td>\n",
       "      <td>0</td>\n",
       "      <td>True</td>\n",
       "      <td>0</td>\n",
       "      <td>7</td>\n",
       "      <td>489</td>\n",
       "      <td>403</td>\n",
       "      <td>-1</td>\n",
       "      <td>TCP-SYN</td>\n",
       "      <td>Attack</td>\n",
       "    </tr>\n",
       "  </tbody>\n",
       "</table>\n",
       "<p>5 rows × 34 columns</p>\n",
       "</div>"
      ],
      "text/plain": [
       "             Switch ID Port Number  Received Packets  Received Bytes  \\\n",
       "0  of:000000000000000c     Port#:1               132            9181   \n",
       "1  of:000000000000000c     Port#:2               187         6304498   \n",
       "2  of:000000000000000c     Port#:3               235         6311567   \n",
       "3  of:000000000000000c     Port#:4                59            7878   \n",
       "4  of:000000000000000a     Port#:1               188         6304547   \n",
       "\n",
       "   Sent Bytes  Sent Packets  Port alive Duration (S)  Packets Rx Dropped  \\\n",
       "0     6311853           238                       46                   0   \n",
       "1       15713           171                       46                   0   \n",
       "2        8030            58                       46                   0   \n",
       "3       16439           182                       46                   0   \n",
       "4       16497           183                       46                   0   \n",
       "\n",
       "   Packets Tx Dropped  Packets Rx Errors  ...  Unknown Load/Latest  \\\n",
       "0                   0                  0  ...                    0   \n",
       "1                   0                  0  ...                    0   \n",
       "2                   0                  0  ...                    0   \n",
       "3                   0                  0  ...                    0   \n",
       "4                   0                  0  ...                    0   \n",
       "\n",
       "   Latest bytes counter  is_valid  Table ID  Active Flow Entries  \\\n",
       "0                     0      True         0                    9   \n",
       "1                     0      True         0                    9   \n",
       "2                     0      True         0                    9   \n",
       "3                     0      True         0                    9   \n",
       "4                     0      True         0                    7   \n",
       "\n",
       "   Packets Looked Up  Packets Matched  Max Size    Label  Binary Label  \n",
       "0                767              688        -1  TCP-SYN        Attack  \n",
       "1                767              688        -1  TCP-SYN        Attack  \n",
       "2                767              688        -1  TCP-SYN        Attack  \n",
       "3                767              688        -1  TCP-SYN        Attack  \n",
       "4                489              403        -1  TCP-SYN        Attack  \n",
       "\n",
       "[5 rows x 34 columns]"
      ]
     },
     "execution_count": 3,
     "metadata": {},
     "output_type": "execute_result"
    }
   ],
   "source": [
    "#printing the dataset first 5 samples\n",
    "dataset.head()"
   ]
  },
  {
   "cell_type": "code",
   "execution_count": 4,
   "id": "c3245368",
   "metadata": {},
   "outputs": [
    {
     "data": {
      "text/plain": [
       "(37411, 34)"
      ]
     },
     "execution_count": 4,
     "metadata": {},
     "output_type": "execute_result"
    }
   ],
   "source": [
    "#printing shape of the dataset\n",
    "dataset.shape"
   ]
  },
  {
   "cell_type": "code",
   "execution_count": 5,
   "id": "6b68d9c3",
   "metadata": {},
   "outputs": [
    {
     "name": "stdout",
     "output_type": "stream",
     "text": [
      "<class 'pandas.core.frame.DataFrame'>\n",
      "RangeIndex: 37411 entries, 0 to 37410\n",
      "Data columns (total 34 columns):\n",
      " #   Column                         Non-Null Count  Dtype \n",
      "---  ------                         --------------  ----- \n",
      " 0   Switch ID                      37411 non-null  object\n",
      " 1   Port Number                    37411 non-null  object\n",
      " 2   Received Packets               37411 non-null  int64 \n",
      " 3   Received Bytes                 37411 non-null  int64 \n",
      " 4   Sent Bytes                     37411 non-null  int64 \n",
      " 5   Sent Packets                   37411 non-null  int64 \n",
      " 6   Port alive Duration (S)        37411 non-null  int64 \n",
      " 7   Packets Rx Dropped             37411 non-null  int64 \n",
      " 8   Packets Tx Dropped             37411 non-null  int64 \n",
      " 9   Packets Rx Errors              37411 non-null  int64 \n",
      " 10  Packets Tx Errors              37411 non-null  int64 \n",
      " 11  Delta Received Packets         37411 non-null  int64 \n",
      " 12  Delta Received Bytes           37411 non-null  int64 \n",
      " 13  Delta Sent Bytes               37411 non-null  int64 \n",
      " 14  Delta Sent Packets             37411 non-null  int64 \n",
      " 15  Delta Port alive Duration (S)  37411 non-null  int64 \n",
      " 16  Delta Packets Rx Dropped       37411 non-null  int64 \n",
      " 17   Delta Packets Tx Dropped      37411 non-null  int64 \n",
      " 18  Delta Packets Rx Errors        37411 non-null  int64 \n",
      " 19  Delta Packets Tx Errors        37411 non-null  int64 \n",
      " 20  Connection Point               37411 non-null  int64 \n",
      " 21  Total Load/Rate                37411 non-null  int64 \n",
      " 22  Total Load/Latest              37411 non-null  int64 \n",
      " 23  Unknown Load/Rate              37411 non-null  int64 \n",
      " 24  Unknown Load/Latest            37411 non-null  int64 \n",
      " 25  Latest bytes counter           37411 non-null  int64 \n",
      " 26  is_valid                       37411 non-null  bool  \n",
      " 27  Table ID                       37411 non-null  int64 \n",
      " 28  Active Flow Entries            37411 non-null  int64 \n",
      " 29  Packets Looked Up              37411 non-null  int64 \n",
      " 30  Packets Matched                37411 non-null  int64 \n",
      " 31  Max Size                       37411 non-null  int64 \n",
      " 32  Label                          37411 non-null  object\n",
      " 33  Binary Label                   37411 non-null  object\n",
      "dtypes: bool(1), int64(29), object(4)\n",
      "memory usage: 9.5+ MB\n"
     ]
    }
   ],
   "source": [
    "#to print the information of dataset columns\n",
    "dataset.info()"
   ]
  },
  {
   "cell_type": "code",
   "execution_count": 6,
   "id": "aed0fa3d",
   "metadata": {},
   "outputs": [
    {
     "data": {
      "text/html": [
       "<div>\n",
       "<style scoped>\n",
       "    .dataframe tbody tr th:only-of-type {\n",
       "        vertical-align: middle;\n",
       "    }\n",
       "\n",
       "    .dataframe tbody tr th {\n",
       "        vertical-align: top;\n",
       "    }\n",
       "\n",
       "    .dataframe thead th {\n",
       "        text-align: right;\n",
       "    }\n",
       "</style>\n",
       "<table border=\"1\" class=\"dataframe\">\n",
       "  <thead>\n",
       "    <tr style=\"text-align: right;\">\n",
       "      <th></th>\n",
       "      <th>Switch ID</th>\n",
       "      <th>Port Number</th>\n",
       "      <th>Received Packets</th>\n",
       "      <th>Received Bytes</th>\n",
       "      <th>Sent Bytes</th>\n",
       "      <th>Sent Packets</th>\n",
       "      <th>Port alive Duration (S)</th>\n",
       "      <th>Packets Rx Dropped</th>\n",
       "      <th>Packets Tx Dropped</th>\n",
       "      <th>Packets Rx Errors</th>\n",
       "      <th>...</th>\n",
       "      <th>Unknown Load/Latest</th>\n",
       "      <th>Latest bytes counter</th>\n",
       "      <th>is_valid</th>\n",
       "      <th>Table ID</th>\n",
       "      <th>Active Flow Entries</th>\n",
       "      <th>Packets Looked Up</th>\n",
       "      <th>Packets Matched</th>\n",
       "      <th>Max Size</th>\n",
       "      <th>Label</th>\n",
       "      <th>Binary Label</th>\n",
       "    </tr>\n",
       "  </thead>\n",
       "  <tbody>\n",
       "    <tr>\n",
       "      <th>0</th>\n",
       "      <td>True</td>\n",
       "      <td>True</td>\n",
       "      <td>True</td>\n",
       "      <td>True</td>\n",
       "      <td>True</td>\n",
       "      <td>True</td>\n",
       "      <td>True</td>\n",
       "      <td>True</td>\n",
       "      <td>True</td>\n",
       "      <td>True</td>\n",
       "      <td>...</td>\n",
       "      <td>True</td>\n",
       "      <td>True</td>\n",
       "      <td>True</td>\n",
       "      <td>True</td>\n",
       "      <td>True</td>\n",
       "      <td>True</td>\n",
       "      <td>True</td>\n",
       "      <td>True</td>\n",
       "      <td>True</td>\n",
       "      <td>True</td>\n",
       "    </tr>\n",
       "    <tr>\n",
       "      <th>1</th>\n",
       "      <td>True</td>\n",
       "      <td>True</td>\n",
       "      <td>True</td>\n",
       "      <td>True</td>\n",
       "      <td>True</td>\n",
       "      <td>True</td>\n",
       "      <td>True</td>\n",
       "      <td>True</td>\n",
       "      <td>True</td>\n",
       "      <td>True</td>\n",
       "      <td>...</td>\n",
       "      <td>True</td>\n",
       "      <td>True</td>\n",
       "      <td>True</td>\n",
       "      <td>True</td>\n",
       "      <td>True</td>\n",
       "      <td>True</td>\n",
       "      <td>True</td>\n",
       "      <td>True</td>\n",
       "      <td>True</td>\n",
       "      <td>True</td>\n",
       "    </tr>\n",
       "    <tr>\n",
       "      <th>2</th>\n",
       "      <td>True</td>\n",
       "      <td>True</td>\n",
       "      <td>True</td>\n",
       "      <td>True</td>\n",
       "      <td>True</td>\n",
       "      <td>True</td>\n",
       "      <td>True</td>\n",
       "      <td>True</td>\n",
       "      <td>True</td>\n",
       "      <td>True</td>\n",
       "      <td>...</td>\n",
       "      <td>True</td>\n",
       "      <td>True</td>\n",
       "      <td>True</td>\n",
       "      <td>True</td>\n",
       "      <td>True</td>\n",
       "      <td>True</td>\n",
       "      <td>True</td>\n",
       "      <td>True</td>\n",
       "      <td>True</td>\n",
       "      <td>True</td>\n",
       "    </tr>\n",
       "    <tr>\n",
       "      <th>3</th>\n",
       "      <td>True</td>\n",
       "      <td>True</td>\n",
       "      <td>True</td>\n",
       "      <td>True</td>\n",
       "      <td>True</td>\n",
       "      <td>True</td>\n",
       "      <td>True</td>\n",
       "      <td>True</td>\n",
       "      <td>True</td>\n",
       "      <td>True</td>\n",
       "      <td>...</td>\n",
       "      <td>True</td>\n",
       "      <td>True</td>\n",
       "      <td>True</td>\n",
       "      <td>True</td>\n",
       "      <td>True</td>\n",
       "      <td>True</td>\n",
       "      <td>True</td>\n",
       "      <td>True</td>\n",
       "      <td>True</td>\n",
       "      <td>True</td>\n",
       "    </tr>\n",
       "    <tr>\n",
       "      <th>4</th>\n",
       "      <td>True</td>\n",
       "      <td>True</td>\n",
       "      <td>True</td>\n",
       "      <td>True</td>\n",
       "      <td>True</td>\n",
       "      <td>True</td>\n",
       "      <td>True</td>\n",
       "      <td>True</td>\n",
       "      <td>True</td>\n",
       "      <td>True</td>\n",
       "      <td>...</td>\n",
       "      <td>True</td>\n",
       "      <td>True</td>\n",
       "      <td>True</td>\n",
       "      <td>True</td>\n",
       "      <td>True</td>\n",
       "      <td>True</td>\n",
       "      <td>True</td>\n",
       "      <td>True</td>\n",
       "      <td>True</td>\n",
       "      <td>True</td>\n",
       "    </tr>\n",
       "    <tr>\n",
       "      <th>...</th>\n",
       "      <td>...</td>\n",
       "      <td>...</td>\n",
       "      <td>...</td>\n",
       "      <td>...</td>\n",
       "      <td>...</td>\n",
       "      <td>...</td>\n",
       "      <td>...</td>\n",
       "      <td>...</td>\n",
       "      <td>...</td>\n",
       "      <td>...</td>\n",
       "      <td>...</td>\n",
       "      <td>...</td>\n",
       "      <td>...</td>\n",
       "      <td>...</td>\n",
       "      <td>...</td>\n",
       "      <td>...</td>\n",
       "      <td>...</td>\n",
       "      <td>...</td>\n",
       "      <td>...</td>\n",
       "      <td>...</td>\n",
       "      <td>...</td>\n",
       "    </tr>\n",
       "    <tr>\n",
       "      <th>37406</th>\n",
       "      <td>True</td>\n",
       "      <td>True</td>\n",
       "      <td>True</td>\n",
       "      <td>True</td>\n",
       "      <td>True</td>\n",
       "      <td>True</td>\n",
       "      <td>True</td>\n",
       "      <td>True</td>\n",
       "      <td>True</td>\n",
       "      <td>True</td>\n",
       "      <td>...</td>\n",
       "      <td>True</td>\n",
       "      <td>True</td>\n",
       "      <td>True</td>\n",
       "      <td>True</td>\n",
       "      <td>True</td>\n",
       "      <td>True</td>\n",
       "      <td>True</td>\n",
       "      <td>True</td>\n",
       "      <td>True</td>\n",
       "      <td>True</td>\n",
       "    </tr>\n",
       "    <tr>\n",
       "      <th>37407</th>\n",
       "      <td>True</td>\n",
       "      <td>True</td>\n",
       "      <td>True</td>\n",
       "      <td>True</td>\n",
       "      <td>True</td>\n",
       "      <td>True</td>\n",
       "      <td>True</td>\n",
       "      <td>True</td>\n",
       "      <td>True</td>\n",
       "      <td>True</td>\n",
       "      <td>...</td>\n",
       "      <td>True</td>\n",
       "      <td>True</td>\n",
       "      <td>True</td>\n",
       "      <td>True</td>\n",
       "      <td>True</td>\n",
       "      <td>True</td>\n",
       "      <td>True</td>\n",
       "      <td>True</td>\n",
       "      <td>True</td>\n",
       "      <td>True</td>\n",
       "    </tr>\n",
       "    <tr>\n",
       "      <th>37408</th>\n",
       "      <td>True</td>\n",
       "      <td>True</td>\n",
       "      <td>True</td>\n",
       "      <td>True</td>\n",
       "      <td>True</td>\n",
       "      <td>True</td>\n",
       "      <td>True</td>\n",
       "      <td>True</td>\n",
       "      <td>True</td>\n",
       "      <td>True</td>\n",
       "      <td>...</td>\n",
       "      <td>True</td>\n",
       "      <td>True</td>\n",
       "      <td>True</td>\n",
       "      <td>True</td>\n",
       "      <td>True</td>\n",
       "      <td>True</td>\n",
       "      <td>True</td>\n",
       "      <td>True</td>\n",
       "      <td>True</td>\n",
       "      <td>True</td>\n",
       "    </tr>\n",
       "    <tr>\n",
       "      <th>37409</th>\n",
       "      <td>True</td>\n",
       "      <td>True</td>\n",
       "      <td>True</td>\n",
       "      <td>True</td>\n",
       "      <td>True</td>\n",
       "      <td>True</td>\n",
       "      <td>True</td>\n",
       "      <td>True</td>\n",
       "      <td>True</td>\n",
       "      <td>True</td>\n",
       "      <td>...</td>\n",
       "      <td>True</td>\n",
       "      <td>True</td>\n",
       "      <td>True</td>\n",
       "      <td>True</td>\n",
       "      <td>True</td>\n",
       "      <td>True</td>\n",
       "      <td>True</td>\n",
       "      <td>True</td>\n",
       "      <td>True</td>\n",
       "      <td>True</td>\n",
       "    </tr>\n",
       "    <tr>\n",
       "      <th>37410</th>\n",
       "      <td>True</td>\n",
       "      <td>True</td>\n",
       "      <td>True</td>\n",
       "      <td>True</td>\n",
       "      <td>True</td>\n",
       "      <td>True</td>\n",
       "      <td>True</td>\n",
       "      <td>True</td>\n",
       "      <td>True</td>\n",
       "      <td>True</td>\n",
       "      <td>...</td>\n",
       "      <td>True</td>\n",
       "      <td>True</td>\n",
       "      <td>True</td>\n",
       "      <td>True</td>\n",
       "      <td>True</td>\n",
       "      <td>True</td>\n",
       "      <td>True</td>\n",
       "      <td>True</td>\n",
       "      <td>True</td>\n",
       "      <td>True</td>\n",
       "    </tr>\n",
       "  </tbody>\n",
       "</table>\n",
       "<p>37411 rows × 34 columns</p>\n",
       "</div>"
      ],
      "text/plain": [
       "       Switch ID  Port Number  Received Packets  Received Bytes  Sent Bytes  \\\n",
       "0           True         True              True            True        True   \n",
       "1           True         True              True            True        True   \n",
       "2           True         True              True            True        True   \n",
       "3           True         True              True            True        True   \n",
       "4           True         True              True            True        True   \n",
       "...          ...          ...               ...             ...         ...   \n",
       "37406       True         True              True            True        True   \n",
       "37407       True         True              True            True        True   \n",
       "37408       True         True              True            True        True   \n",
       "37409       True         True              True            True        True   \n",
       "37410       True         True              True            True        True   \n",
       "\n",
       "       Sent Packets  Port alive Duration (S)  Packets Rx Dropped  \\\n",
       "0              True                     True                True   \n",
       "1              True                     True                True   \n",
       "2              True                     True                True   \n",
       "3              True                     True                True   \n",
       "4              True                     True                True   \n",
       "...             ...                      ...                 ...   \n",
       "37406          True                     True                True   \n",
       "37407          True                     True                True   \n",
       "37408          True                     True                True   \n",
       "37409          True                     True                True   \n",
       "37410          True                     True                True   \n",
       "\n",
       "       Packets Tx Dropped  Packets Rx Errors  ...  Unknown Load/Latest  \\\n",
       "0                    True               True  ...                 True   \n",
       "1                    True               True  ...                 True   \n",
       "2                    True               True  ...                 True   \n",
       "3                    True               True  ...                 True   \n",
       "4                    True               True  ...                 True   \n",
       "...                   ...                ...  ...                  ...   \n",
       "37406                True               True  ...                 True   \n",
       "37407                True               True  ...                 True   \n",
       "37408                True               True  ...                 True   \n",
       "37409                True               True  ...                 True   \n",
       "37410                True               True  ...                 True   \n",
       "\n",
       "       Latest bytes counter  is_valid  Table ID  Active Flow Entries  \\\n",
       "0                      True      True      True                 True   \n",
       "1                      True      True      True                 True   \n",
       "2                      True      True      True                 True   \n",
       "3                      True      True      True                 True   \n",
       "4                      True      True      True                 True   \n",
       "...                     ...       ...       ...                  ...   \n",
       "37406                  True      True      True                 True   \n",
       "37407                  True      True      True                 True   \n",
       "37408                  True      True      True                 True   \n",
       "37409                  True      True      True                 True   \n",
       "37410                  True      True      True                 True   \n",
       "\n",
       "       Packets Looked Up  Packets Matched  Max Size  Label  Binary Label  \n",
       "0                   True             True      True   True          True  \n",
       "1                   True             True      True   True          True  \n",
       "2                   True             True      True   True          True  \n",
       "3                   True             True      True   True          True  \n",
       "4                   True             True      True   True          True  \n",
       "...                  ...              ...       ...    ...           ...  \n",
       "37406               True             True      True   True          True  \n",
       "37407               True             True      True   True          True  \n",
       "37408               True             True      True   True          True  \n",
       "37409               True             True      True   True          True  \n",
       "37410               True             True      True   True          True  \n",
       "\n",
       "[37411 rows x 34 columns]"
      ]
     },
     "execution_count": 6,
     "metadata": {},
     "output_type": "execute_result"
    }
   ],
   "source": [
    "# Check missing value in the dataset\n",
    "dataset.notnull()"
   ]
  },
  {
   "cell_type": "code",
   "execution_count": 7,
   "id": "09b588ee",
   "metadata": {
    "scrolled": true
   },
   "outputs": [
    {
     "name": "stdout",
     "output_type": "stream",
     "text": [
      "Switch ID:12\n",
      "Port Number:4\n",
      "Received Packets:9931\n",
      "Received Bytes:26044\n",
      "Sent Bytes:32456\n",
      "Sent Packets:11570\n",
      "Port alive Duration (S):1206\n",
      "Packets Rx Dropped:1\n",
      "Packets Tx Dropped:1\n",
      "Packets Rx Errors:1\n",
      "Packets Tx Errors:1\n",
      "Delta Received Packets:676\n",
      "Delta Received Bytes:3635\n",
      "Delta Sent Bytes:3476\n",
      "Delta Sent Packets:567\n",
      "Delta Port alive Duration (S):2\n",
      "Delta Packets Rx Dropped:1\n",
      " Delta Packets Tx Dropped:1\n",
      "Delta Packets Rx Errors:1\n",
      "Delta Packets Tx Errors:1\n",
      "Connection Point:5\n",
      "Total Load/Rate:1297\n",
      "Total Load/Latest:1918\n",
      "Unknown Load/Rate:1297\n",
      "Unknown Load/Latest:1918\n",
      "Latest bytes counter:1297\n",
      "is_valid:1\n",
      "Table ID:1\n",
      "Active Flow Entries:44\n",
      "Packets Looked Up:9311\n",
      "Packets Matched:9318\n",
      "Max Size:1\n",
      "Label:6\n",
      "Binary Label:2\n"
     ]
    }
   ],
   "source": [
    "#Finding number of unique values in each column\n",
    "for data in dataset.columns:\n",
    "    print(data+\":\"+str(dataset[data].unique().size))"
   ]
  },
  {
   "cell_type": "code",
   "execution_count": 8,
   "id": "574b6d86",
   "metadata": {},
   "outputs": [
    {
     "data": {
      "text/plain": [
       "PortScan     9500\n",
       "TCP-SYN      9081\n",
       "Blackhole    8420\n",
       "Diversion    5615\n",
       "Normal       3773\n",
       "Overflow     1022\n",
       "Name: Label, dtype: int64"
      ]
     },
     "execution_count": 8,
     "metadata": {},
     "output_type": "execute_result"
    }
   ],
   "source": [
    "#count values of each attack data in dataset\n",
    "dataset['Label'].value_counts()"
   ]
  },
  {
   "cell_type": "code",
   "execution_count": 9,
   "id": "0f171071",
   "metadata": {},
   "outputs": [
    {
     "data": {
      "image/png": "[encoded data removed]",
      "text/plain": [
       "<Figure size 432x288 with 1 Axes>"
      ]
     },
     "metadata": {},
     "output_type": "display_data"
    }
   ],
   "source": [
    "#to show pie chart of values in Label coloumn \n",
    "import matplotlib.pyplot as plt\n",
    "dataset['Label'].value_counts().plot(kind=\"pie\", autopct=\"%.2f\")\n",
    "plt.show()"
   ]
  },
  {
   "cell_type": "code",
   "execution_count": 10,
   "id": "8180044a",
   "metadata": {},
   "outputs": [
    {
     "name": "stderr",
     "output_type": "stream",
     "text": [
      "C:\\Users\\anude\\anaconda3\\lib\\site-packages\\seaborn\\_decorators.py:36: FutureWarning: Pass the following variable as a keyword arg: x. From version 0.12, the only valid positional argument will be `data`, and passing other arguments without an explicit keyword will result in an error or misinterpretation.\n",
      "  warnings.warn(\n"
     ]
    },
    {
     "data": {
      "text/plain": [
       "<AxesSubplot:xlabel='Label', ylabel='count'>"
      ]
     },
     "execution_count": 10,
     "metadata": {},
     "output_type": "execute_result"
    },
    {
     "data": {
      "image/png": "[encoded data removed]",
      "text/plain": [
       "<Figure size 432x288 with 1 Axes>"
      ]
     },
     "metadata": {
      "needs_background": "light"
     },
     "output_type": "display_data"
    }
   ],
   "source": [
    "#ploting count plot for Label Column\n",
    "import seaborn as sns\n",
    "sns.countplot(dataset['Label'])"
   ]
  },
  {
   "cell_type": "code",
   "execution_count": 11,
   "id": "7c26b3fd",
   "metadata": {},
   "outputs": [
    {
     "data": {
      "text/plain": [
       "<bound method NDFrame._add_numeric_operations.<locals>.sum of 0           132\n",
       "1           187\n",
       "2           235\n",
       "3            59\n",
       "4           188\n",
       "          ...  \n",
       "37406       228\n",
       "37407      1064\n",
       "37408      1042\n",
       "37409    149012\n",
       "37410       228\n",
       "Name: Received Packets, Length: 37411, dtype: int64>"
      ]
     },
     "execution_count": 11,
     "metadata": {},
     "output_type": "execute_result"
    }
   ],
   "source": [
    "dataset['Received Packets'].sum"
   ]
  },
  {
   "cell_type": "code",
   "execution_count": 12,
   "id": "1250eb98",
   "metadata": {},
   "outputs": [],
   "source": [
    "totalRecievedPackets=0\n",
    "totalSendPackets=0\n",
    "#Finding number of unique values in each column\n",
    "for data in dataset[\"Received Packets\"]:\n",
    "            totalRecievedPackets=totalRecievedPackets+data\n",
    "for data in dataset[\"Sent Packets\"]:\n",
    "            totalSendPackets=totalSendPackets+data"
   ]
  },
  {
   "cell_type": "code",
   "execution_count": 13,
   "id": "107ce221",
   "metadata": {},
   "outputs": [
    {
     "data": {
      "text/plain": [
       "1258013113"
      ]
     },
     "execution_count": 13,
     "metadata": {},
     "output_type": "execute_result"
    }
   ],
   "source": [
    "totalSendPackets"
   ]
  },
  {
   "cell_type": "code",
   "execution_count": 14,
   "id": "d9839eda",
   "metadata": {},
   "outputs": [
    {
     "data": {
      "text/plain": [
       "808784562"
      ]
     },
     "execution_count": 14,
     "metadata": {},
     "output_type": "execute_result"
    }
   ],
   "source": [
    "totalRecievedPackets"
   ]
  },
  {
   "cell_type": "code",
   "execution_count": 15,
   "id": "9d54dc0f",
   "metadata": {},
   "outputs": [
    {
     "data": {
      "text/plain": [
       "449228551"
      ]
     },
     "execution_count": 15,
     "metadata": {},
     "output_type": "execute_result"
    }
   ],
   "source": [
    "totalSendPackets-totalRecievedPackets"
   ]
  },
  {
   "cell_type": "code",
   "execution_count": 16,
   "id": "1c693fdd",
   "metadata": {},
   "outputs": [],
   "source": [
    "#DATA PRE PROCESSING"
   ]
  },
  {
   "cell_type": "code",
   "execution_count": 17,
   "id": "45dd6631",
   "metadata": {},
   "outputs": [],
   "source": [
    "#removing unwanted columns\n",
    "dataset=dataset.drop(['Packets Rx Dropped','Packets Tx Dropped','Packets Rx Errors','Packets Tx Errors','Delta Packets Rx Dropped',' Delta Packets Tx Dropped','Delta Packets Rx Errors','Delta Packets Tx Errors','is_valid','Table ID','Max Size'], axis=1)"
   ]
  },
  {
   "cell_type": "code",
   "execution_count": 18,
   "id": "6fbf5bf7",
   "metadata": {},
   "outputs": [
    {
     "data": {
      "text/html": [
       "<div>\n",
       "<style scoped>\n",
       "    .dataframe tbody tr th:only-of-type {\n",
       "        vertical-align: middle;\n",
       "    }\n",
       "\n",
       "    .dataframe tbody tr th {\n",
       "        vertical-align: top;\n",
       "    }\n",
       "\n",
       "    .dataframe thead th {\n",
       "        text-align: right;\n",
       "    }\n",
       "</style>\n",
       "<table border=\"1\" class=\"dataframe\">\n",
       "  <thead>\n",
       "    <tr style=\"text-align: right;\">\n",
       "      <th></th>\n",
       "      <th>Switch ID</th>\n",
       "      <th>Port Number</th>\n",
       "      <th>Received Packets</th>\n",
       "      <th>Received Bytes</th>\n",
       "      <th>Sent Bytes</th>\n",
       "      <th>Sent Packets</th>\n",
       "      <th>Port alive Duration (S)</th>\n",
       "      <th>Delta Received Packets</th>\n",
       "      <th>Delta Received Bytes</th>\n",
       "      <th>Delta Sent Bytes</th>\n",
       "      <th>...</th>\n",
       "      <th>Total Load/Rate</th>\n",
       "      <th>Total Load/Latest</th>\n",
       "      <th>Unknown Load/Rate</th>\n",
       "      <th>Unknown Load/Latest</th>\n",
       "      <th>Latest bytes counter</th>\n",
       "      <th>Active Flow Entries</th>\n",
       "      <th>Packets Looked Up</th>\n",
       "      <th>Packets Matched</th>\n",
       "      <th>Label</th>\n",
       "      <th>Binary Label</th>\n",
       "    </tr>\n",
       "  </thead>\n",
       "  <tbody>\n",
       "    <tr>\n",
       "      <th>0</th>\n",
       "      <td>of:000000000000000c</td>\n",
       "      <td>Port#:1</td>\n",
       "      <td>132</td>\n",
       "      <td>9181</td>\n",
       "      <td>6311853</td>\n",
       "      <td>238</td>\n",
       "      <td>46</td>\n",
       "      <td>0</td>\n",
       "      <td>0</td>\n",
       "      <td>280</td>\n",
       "      <td>...</td>\n",
       "      <td>0</td>\n",
       "      <td>0</td>\n",
       "      <td>0</td>\n",
       "      <td>0</td>\n",
       "      <td>0</td>\n",
       "      <td>9</td>\n",
       "      <td>767</td>\n",
       "      <td>688</td>\n",
       "      <td>TCP-SYN</td>\n",
       "      <td>Attack</td>\n",
       "    </tr>\n",
       "    <tr>\n",
       "      <th>1</th>\n",
       "      <td>of:000000000000000c</td>\n",
       "      <td>Port#:2</td>\n",
       "      <td>187</td>\n",
       "      <td>6304498</td>\n",
       "      <td>15713</td>\n",
       "      <td>171</td>\n",
       "      <td>46</td>\n",
       "      <td>146</td>\n",
       "      <td>5908166</td>\n",
       "      <td>5969</td>\n",
       "      <td>...</td>\n",
       "      <td>0</td>\n",
       "      <td>0</td>\n",
       "      <td>0</td>\n",
       "      <td>0</td>\n",
       "      <td>0</td>\n",
       "      <td>9</td>\n",
       "      <td>767</td>\n",
       "      <td>688</td>\n",
       "      <td>TCP-SYN</td>\n",
       "      <td>Attack</td>\n",
       "    </tr>\n",
       "    <tr>\n",
       "      <th>2</th>\n",
       "      <td>of:000000000000000c</td>\n",
       "      <td>Port#:3</td>\n",
       "      <td>235</td>\n",
       "      <td>6311567</td>\n",
       "      <td>8030</td>\n",
       "      <td>58</td>\n",
       "      <td>46</td>\n",
       "      <td>2</td>\n",
       "      <td>278</td>\n",
       "      <td>280</td>\n",
       "      <td>...</td>\n",
       "      <td>0</td>\n",
       "      <td>0</td>\n",
       "      <td>0</td>\n",
       "      <td>0</td>\n",
       "      <td>0</td>\n",
       "      <td>9</td>\n",
       "      <td>767</td>\n",
       "      <td>688</td>\n",
       "      <td>TCP-SYN</td>\n",
       "      <td>Attack</td>\n",
       "    </tr>\n",
       "    <tr>\n",
       "      <th>3</th>\n",
       "      <td>of:000000000000000c</td>\n",
       "      <td>Port#:4</td>\n",
       "      <td>59</td>\n",
       "      <td>7878</td>\n",
       "      <td>16439</td>\n",
       "      <td>182</td>\n",
       "      <td>46</td>\n",
       "      <td>2</td>\n",
       "      <td>278</td>\n",
       "      <td>280</td>\n",
       "      <td>...</td>\n",
       "      <td>0</td>\n",
       "      <td>0</td>\n",
       "      <td>0</td>\n",
       "      <td>0</td>\n",
       "      <td>0</td>\n",
       "      <td>9</td>\n",
       "      <td>767</td>\n",
       "      <td>688</td>\n",
       "      <td>TCP-SYN</td>\n",
       "      <td>Attack</td>\n",
       "    </tr>\n",
       "    <tr>\n",
       "      <th>4</th>\n",
       "      <td>of:000000000000000a</td>\n",
       "      <td>Port#:1</td>\n",
       "      <td>188</td>\n",
       "      <td>6304547</td>\n",
       "      <td>16497</td>\n",
       "      <td>183</td>\n",
       "      <td>46</td>\n",
       "      <td>0</td>\n",
       "      <td>0</td>\n",
       "      <td>280</td>\n",
       "      <td>...</td>\n",
       "      <td>0</td>\n",
       "      <td>0</td>\n",
       "      <td>0</td>\n",
       "      <td>0</td>\n",
       "      <td>0</td>\n",
       "      <td>7</td>\n",
       "      <td>489</td>\n",
       "      <td>403</td>\n",
       "      <td>TCP-SYN</td>\n",
       "      <td>Attack</td>\n",
       "    </tr>\n",
       "  </tbody>\n",
       "</table>\n",
       "<p>5 rows × 23 columns</p>\n",
       "</div>"
      ],
      "text/plain": [
       "             Switch ID Port Number  Received Packets  Received Bytes  \\\n",
       "0  of:000000000000000c     Port#:1               132            9181   \n",
       "1  of:000000000000000c     Port#:2               187         6304498   \n",
       "2  of:000000000000000c     Port#:3               235         6311567   \n",
       "3  of:000000000000000c     Port#:4                59            7878   \n",
       "4  of:000000000000000a     Port#:1               188         6304547   \n",
       "\n",
       "   Sent Bytes  Sent Packets  Port alive Duration (S)  Delta Received Packets  \\\n",
       "0     6311853           238                       46                       0   \n",
       "1       15713           171                       46                     146   \n",
       "2        8030            58                       46                       2   \n",
       "3       16439           182                       46                       2   \n",
       "4       16497           183                       46                       0   \n",
       "\n",
       "   Delta Received Bytes  Delta Sent Bytes  ...  Total Load/Rate  \\\n",
       "0                     0               280  ...                0   \n",
       "1               5908166              5969  ...                0   \n",
       "2                   278               280  ...                0   \n",
       "3                   278               280  ...                0   \n",
       "4                     0               280  ...                0   \n",
       "\n",
       "   Total Load/Latest  Unknown Load/Rate  Unknown Load/Latest  \\\n",
       "0                  0                  0                    0   \n",
       "1                  0                  0                    0   \n",
       "2                  0                  0                    0   \n",
       "3                  0                  0                    0   \n",
       "4                  0                  0                    0   \n",
       "\n",
       "   Latest bytes counter  Active Flow Entries  Packets Looked Up  \\\n",
       "0                     0                    9                767   \n",
       "1                     0                    9                767   \n",
       "2                     0                    9                767   \n",
       "3                     0                    9                767   \n",
       "4                     0                    7                489   \n",
       "\n",
       "   Packets Matched    Label  Binary Label  \n",
       "0              688  TCP-SYN        Attack  \n",
       "1              688  TCP-SYN        Attack  \n",
       "2              688  TCP-SYN        Attack  \n",
       "3              688  TCP-SYN        Attack  \n",
       "4              403  TCP-SYN        Attack  \n",
       "\n",
       "[5 rows x 23 columns]"
      ]
     },
     "execution_count": 18,
     "metadata": {},
     "output_type": "execute_result"
    }
   ],
   "source": [
    "dataset.head()"
   ]
  },
  {
   "cell_type": "code",
   "execution_count": 19,
   "id": "f3cbfc9b",
   "metadata": {},
   "outputs": [
    {
     "name": "stdout",
     "output_type": "stream",
     "text": [
      "Switch ID:12\n",
      "Port Number:4\n",
      "Received Packets:9931\n",
      "Received Bytes:26044\n",
      "Sent Bytes:32456\n",
      "Sent Packets:11570\n",
      "Port alive Duration (S):1206\n",
      "Delta Received Packets:676\n",
      "Delta Received Bytes:3635\n",
      "Delta Sent Bytes:3476\n",
      "Delta Sent Packets:567\n",
      "Delta Port alive Duration (S):2\n",
      "Connection Point:5\n",
      "Total Load/Rate:1297\n",
      "Total Load/Latest:1918\n",
      "Unknown Load/Rate:1297\n",
      "Unknown Load/Latest:1918\n",
      "Latest bytes counter:1297\n",
      "Active Flow Entries:44\n",
      "Packets Looked Up:9311\n",
      "Packets Matched:9318\n",
      "Label:6\n",
      "Binary Label:2\n"
     ]
    }
   ],
   "source": [
    "for data in dataset.columns:\n",
    "    print(data+\":\"+str(dataset[data].unique().size))"
   ]
  },
  {
   "cell_type": "code",
   "execution_count": 20,
   "id": "f332689f",
   "metadata": {},
   "outputs": [
    {
     "data": {
      "text/plain": [
       "array([5, 4], dtype=int64)"
      ]
     },
     "execution_count": 20,
     "metadata": {},
     "output_type": "execute_result"
    }
   ],
   "source": [
    "dataset[\"Delta Port alive Duration (S)\"].unique()"
   ]
  },
  {
   "cell_type": "code",
   "execution_count": 21,
   "id": "c5db88f6",
   "metadata": {},
   "outputs": [
    {
     "name": "stdout",
     "output_type": "stream",
     "text": [
      "<class 'pandas.core.frame.DataFrame'>\n",
      "RangeIndex: 37411 entries, 0 to 37410\n",
      "Data columns (total 23 columns):\n",
      " #   Column                         Non-Null Count  Dtype \n",
      "---  ------                         --------------  ----- \n",
      " 0   Switch ID                      37411 non-null  object\n",
      " 1   Port Number                    37411 non-null  object\n",
      " 2   Received Packets               37411 non-null  int64 \n",
      " 3   Received Bytes                 37411 non-null  int64 \n",
      " 4   Sent Bytes                     37411 non-null  int64 \n",
      " 5   Sent Packets                   37411 non-null  int64 \n",
      " 6   Port alive Duration (S)        37411 non-null  int64 \n",
      " 7   Delta Received Packets         37411 non-null  int64 \n",
      " 8   Delta Received Bytes           37411 non-null  int64 \n",
      " 9   Delta Sent Bytes               37411 non-null  int64 \n",
      " 10  Delta Sent Packets             37411 non-null  int64 \n",
      " 11  Delta Port alive Duration (S)  37411 non-null  int64 \n",
      " 12  Connection Point               37411 non-null  int64 \n",
      " 13  Total Load/Rate                37411 non-null  int64 \n",
      " 14  Total Load/Latest              37411 non-null  int64 \n",
      " 15  Unknown Load/Rate              37411 non-null  int64 \n",
      " 16  Unknown Load/Latest            37411 non-null  int64 \n",
      " 17  Latest bytes counter           37411 non-null  int64 \n",
      " 18  Active Flow Entries            37411 non-null  int64 \n",
      " 19  Packets Looked Up              37411 non-null  int64 \n",
      " 20  Packets Matched                37411 non-null  int64 \n",
      " 21  Label                          37411 non-null  object\n",
      " 22  Binary Label                   37411 non-null  object\n",
      "dtypes: int64(19), object(4)\n",
      "memory usage: 6.6+ MB\n"
     ]
    }
   ],
   "source": [
    "dataset.info()"
   ]
  },
  {
   "cell_type": "code",
   "execution_count": 22,
   "id": "8ea31a33",
   "metadata": {},
   "outputs": [],
   "source": [
    "#Converting the columns ['Switch ID', 'Port Number', 'Binary Label'] into one hot vectors\n",
    "dataset = pd.get_dummies(dataset, columns = ['Switch ID', 'Port Number', 'Binary Label'])"
   ]
  },
  {
   "cell_type": "code",
   "execution_count": 23,
   "id": "e7e9f1c8",
   "metadata": {},
   "outputs": [
    {
     "name": "stdout",
     "output_type": "stream",
     "text": [
      "<class 'pandas.core.frame.DataFrame'>\n",
      "RangeIndex: 37411 entries, 0 to 37410\n",
      "Data columns (total 38 columns):\n",
      " #   Column                         Non-Null Count  Dtype \n",
      "---  ------                         --------------  ----- \n",
      " 0   Received Packets               37411 non-null  int64 \n",
      " 1   Received Bytes                 37411 non-null  int64 \n",
      " 2   Sent Bytes                     37411 non-null  int64 \n",
      " 3   Sent Packets                   37411 non-null  int64 \n",
      " 4   Port alive Duration (S)        37411 non-null  int64 \n",
      " 5   Delta Received Packets         37411 non-null  int64 \n",
      " 6   Delta Received Bytes           37411 non-null  int64 \n",
      " 7   Delta Sent Bytes               37411 non-null  int64 \n",
      " 8   Delta Sent Packets             37411 non-null  int64 \n",
      " 9   Delta Port alive Duration (S)  37411 non-null  int64 \n",
      " 10  Connection Point               37411 non-null  int64 \n",
      " 11  Total Load/Rate                37411 non-null  int64 \n",
      " 12  Total Load/Latest              37411 non-null  int64 \n",
      " 13  Unknown Load/Rate              37411 non-null  int64 \n",
      " 14  Unknown Load/Latest            37411 non-null  int64 \n",
      " 15  Latest bytes counter           37411 non-null  int64 \n",
      " 16  Active Flow Entries            37411 non-null  int64 \n",
      " 17  Packets Looked Up              37411 non-null  int64 \n",
      " 18  Packets Matched                37411 non-null  int64 \n",
      " 19  Label                          37411 non-null  object\n",
      " 20  Switch ID_of:0000000000000001  37411 non-null  uint8 \n",
      " 21  Switch ID_of:0000000000000002  37411 non-null  uint8 \n",
      " 22  Switch ID_of:0000000000000003  37411 non-null  uint8 \n",
      " 23  Switch ID_of:0000000000000004  37411 non-null  uint8 \n",
      " 24  Switch ID_of:0000000000000005  37411 non-null  uint8 \n",
      " 25  Switch ID_of:0000000000000006  37411 non-null  uint8 \n",
      " 26  Switch ID_of:0000000000000007  37411 non-null  uint8 \n",
      " 27  Switch ID_of:0000000000000008  37411 non-null  uint8 \n",
      " 28  Switch ID_of:0000000000000009  37411 non-null  uint8 \n",
      " 29  Switch ID_of:000000000000000a  37411 non-null  uint8 \n",
      " 30  Switch ID_of:000000000000000b  37411 non-null  uint8 \n",
      " 31  Switch ID_of:000000000000000c  37411 non-null  uint8 \n",
      " 32  Port Number_Port#:1            37411 non-null  uint8 \n",
      " 33  Port Number_Port#:2            37411 non-null  uint8 \n",
      " 34  Port Number_Port#:3            37411 non-null  uint8 \n",
      " 35  Port Number_Port#:4            37411 non-null  uint8 \n",
      " 36  Binary Label_Attack            37411 non-null  uint8 \n",
      " 37  Binary Label_Normal            37411 non-null  uint8 \n",
      "dtypes: int64(19), object(1), uint8(18)\n",
      "memory usage: 6.4+ MB\n"
     ]
    }
   ],
   "source": [
    "dataset.info()"
   ]
  },
  {
   "cell_type": "code",
   "execution_count": 24,
   "id": "24630445",
   "metadata": {},
   "outputs": [
    {
     "name": "stdout",
     "output_type": "stream",
     "text": [
      "(37411, 37)\n",
      "(37411,)\n"
     ]
    }
   ],
   "source": [
    "#seperate 'features and ouput' to 'X and y'\n",
    "X=dataset.drop('Label',axis=1).values\n",
    "y=dataset['Label'].values\n",
    "\n",
    "print(X.shape)\n",
    "print(y.shape)"
   ]
  },
  {
   "cell_type": "code",
   "execution_count": 67,
   "id": "7b623235",
   "metadata": {
    "scrolled": true
   },
   "outputs": [
    {
     "name": "stdout",
     "output_type": "stream",
     "text": [
      "(22446, 37)\n",
      "(14965, 37)\n",
      "(22446,)\n",
      "(14965,)\n"
     ]
    }
   ],
   "source": [
    "#spliting the data into training and test data\n",
    "from sklearn.model_selection import train_test_split\n",
    "X_train, X_test, y_train, y_test = train_test_split (X, y, test_size = 0.4, random_state = 42)\n",
    "print (X_train.shape)\n",
    "print (X_test.shape)\n",
    "print (y_train.shape)\n",
    "print (y_test.shape)"
   ]
  },
  {
   "cell_type": "code",
   "execution_count": 68,
   "id": "1cbd0df7",
   "metadata": {},
   "outputs": [],
   "source": [
    "#feature selection using PCA\n",
    "from sklearn.decomposition import PCA\n",
    "pca=PCA(n_components=20)\n",
    "X_train=pca.fit_transform(X_train)\n",
    "X_test=pca.transform(X_test)\n"
   ]
  },
  {
   "cell_type": "code",
   "execution_count": 69,
   "id": "1ba4091f",
   "metadata": {},
   "outputs": [],
   "source": [
    "#scaling the dataset between 0-1\n",
    "from sklearn.preprocessing import StandardScaler\n",
    "scaler = StandardScaler()\n",
    "X_train = scaler.fit_transform(X_train)\n",
    "X_test = scaler.transform(X_test)"
   ]
  },
  {
   "cell_type": "code",
   "execution_count": 70,
   "id": "57563941",
   "metadata": {},
   "outputs": [],
   "source": [
    "#Algorithm Execution(training the model)"
   ]
  },
  {
   "cell_type": "code",
   "execution_count": 71,
   "id": "03a1e32f",
   "metadata": {},
   "outputs": [
    {
     "data": {
      "text/plain": [
       "KNeighborsClassifier(n_neighbors=3)"
      ]
     },
     "execution_count": 71,
     "metadata": {},
     "output_type": "execute_result"
    }
   ],
   "source": [
    "#Intialising KNN classifier to train the model using KNN algorithm \n",
    "from sklearn.neighbors import KNeighborsClassifier\n",
    "knn = KNeighborsClassifier(n_neighbors = 3)\n",
    "knn.fit(X_train, y_train)"
   ]
  },
  {
   "cell_type": "code",
   "execution_count": 72,
   "id": "dd45903d",
   "metadata": {},
   "outputs": [],
   "source": [
    "#predicitng the ouptut for X_test faetures\n",
    "y_pred = knn.predict(X_test)"
   ]
  },
  {
   "cell_type": "code",
   "execution_count": 73,
   "id": "3dd8b116",
   "metadata": {},
   "outputs": [
    {
     "name": "stdout",
     "output_type": "stream",
     "text": [
      "0.9479640024948766\n",
      "0.8828600066822586\n"
     ]
    }
   ],
   "source": [
    "print (knn.score(X_train, y_train))\n",
    "print (knn.score(X_test, y_test))"
   ]
  },
  {
   "cell_type": "code",
   "execution_count": 74,
   "id": "3c98b824",
   "metadata": {},
   "outputs": [
    {
     "name": "stdout",
     "output_type": "stream",
     "text": [
      "              precision    recall  f1-score   support\n",
      "\n",
      "   Blackhole       0.93      0.93      0.93      3308\n",
      "   Diversion       0.99      0.98      0.99      2261\n",
      "      Normal       1.00      1.00      1.00      1493\n",
      "    Overflow       0.77      0.67      0.72       399\n",
      "    PortScan       0.83      0.82      0.83      3807\n",
      "     TCP-SYN       0.79      0.83      0.81      3697\n",
      "\n",
      "    accuracy                           0.88     14965\n",
      "   macro avg       0.89      0.87      0.88     14965\n",
      "weighted avg       0.88      0.88      0.88     14965\n",
      "\n",
      "Validation Accuracy:  0.8828600066822586\n",
      "None\n"
     ]
    }
   ],
   "source": [
    "from sklearn.metrics import confusion_matrix, ConfusionMatrixDisplay, classification_report, accuracy_score \n",
    "\n",
    "\n",
    "#printing classification report\n",
    "print (classification_report(y_test, y_pred))\n",
    "\n",
    "print (print(\"Validation Accuracy: \", accuracy_score(y_test, y_pred)))"
   ]
  },
  {
   "cell_type": "code",
   "execution_count": 75,
   "id": "6fbe715c",
   "metadata": {},
   "outputs": [
    {
     "data": {
      "image/png": "[encoded data removed]",
      "text/plain": [
       "<Figure size 432x288 with 2 Axes>"
      ]
     },
     "metadata": {
      "needs_background": "light"
     },
     "output_type": "display_data"
    }
   ],
   "source": [
    "#pritning confusion matrix\n",
    "cm = confusion_matrix(y_test, y_pred) \n",
    "disp = ConfusionMatrixDisplay(confusion_matrix = cm, display_labels = knn.classes_)\n",
    "disp.plot()\n",
    "plt.show()"
   ]
  },
  {
   "cell_type": "code",
   "execution_count": 76,
   "id": "ec8b5511",
   "metadata": {},
   "outputs": [],
   "source": [
    "numberOfFeatures=[10,12,15,18,20]\n",
    "validationAccuracy=[]\n",
    "for n in numberOfFeatures:\n",
    "    X_train, X_test, y_train, y_test = train_test_split (X, y, test_size = 0.4, random_state = 42)\n",
    "    pca=PCA(n_components=n)\n",
    "    X_train=pca.fit_transform(X_train)\n",
    "    X_test=pca.transform(X_test)\n",
    "    X_train = scaler.fit_transform(X_train)\n",
    "    X_test = scaler.transform(X_test)\n",
    "    \n",
    "    knn = KNeighborsClassifier(n_neighbors = 3)\n",
    "    knn.fit(X_train, y_train)\n",
    "    y_pred = knn.predict(X_test)\n",
    "    validationAccuracy.append(accuracy_score(y_test, y_pred)) "
   ]
  },
  {
   "cell_type": "code",
   "execution_count": 77,
   "id": "2c5a01bd",
   "metadata": {
    "scrolled": true
   },
   "outputs": [
    {
     "data": {
      "image/png": "[encoded data removed]",
      "text/plain": [
       "<Figure size 432x288 with 1 Axes>"
      ]
     },
     "metadata": {
      "needs_background": "light"
     },
     "output_type": "display_data"
    }
   ],
   "source": [
    "plt.title('k-NN Varying number of features')\n",
    "plt.plot(numberOfFeatures, validationAccuracy, label='Validation Accuracy')\n",
    "plt.legend()\n",
    "plt.xlabel('Number of features selected')\n",
    "plt.ylabel('Validation Accuracy')\n",
    "plt.show()"
   ]
  },
  {
   "cell_type": "code",
   "execution_count": 80,
   "id": "0249b6ee",
   "metadata": {},
   "outputs": [],
   "source": [
    "numberOfNeighbhours=[3,5,7,9]\n",
    "validationAccuracyKNN=[]\n",
    "trainingScoreKNN=[]\n",
    "testScoreKNN=[]\n",
    "for n in numberOfNeighbhours:\n",
    "    X_train, X_test, y_train, y_test = train_test_split (X, y, test_size = 0.4, random_state = 42)\n",
    "    pca=PCA(n_components=20)\n",
    "    X_train=pca.fit_transform(X_train)\n",
    "    X_test=pca.fit_transform(X_test)\n",
    "    X_train = scaler.fit_transform(X_train)\n",
    "    X_test = scaler.fit_transform(X_test)\n",
    "    \n",
    "    knn = KNeighborsClassifier(n_neighbors = n)\n",
    "    knn.fit(X_train, y_train)\n",
    "    y_pred = knn.predict(X_test)\n",
    "    trainingScoreKNN.append(knn.score(X_train, y_train))\n",
    "    testScoreKNN.append(knn.score(X_test, y_test))\n",
    "    validationAccuracyKNN.append(accuracy_score(y_test, y_pred))"
   ]
  },
  {
   "cell_type": "code",
   "execution_count": 81,
   "id": "820a27b5",
   "metadata": {},
   "outputs": [
    {
     "data": {
      "image/png": "[encoded data removed]",
      "text/plain": [
       "<Figure size 432x288 with 1 Axes>"
      ]
     },
     "metadata": {
      "needs_background": "light"
     },
     "output_type": "display_data"
    }
   ],
   "source": [
    "plt.title('k-NN Varying number of neighbhours')\n",
    "plt.scatter(numberOfNeighbhours, validationAccuracyKNN, label='Validation Accuracy')\n",
    "plt.legend()\n",
    "plt.xlabel('Number of neighbhours selected')\n",
    "plt.ylabel('Validation Accuracy')\n",
    "plt.show()"
   ]
  },
  {
   "cell_type": "code",
   "execution_count": 82,
   "id": "e308aad6",
   "metadata": {},
   "outputs": [
    {
     "data": {
      "image/png": "[encoded data removed]",
      "text/plain": [
       "<Figure size 432x288 with 1 Axes>"
      ]
     },
     "metadata": {
      "needs_background": "light"
     },
     "output_type": "display_data"
    }
   ],
   "source": [
    "plt.title('k-NN Varying number of neighbors')\n",
    "plt.plot(numberOfNeighbhours, trainingScoreKNN, label='Training Accuracy')\n",
    "plt.plot(numberOfNeighbhours, testScoreKNN, label='Testing accuracy')\n",
    "plt.legend()\n",
    "plt.xlabel('Number of neighbours ')\n",
    "plt.ylabel('Accuracy')\n",
    "plt.show()"
   ]
  },
  {
   "cell_type": "code",
   "execution_count": 83,
   "id": "c53f5b76",
   "metadata": {},
   "outputs": [],
   "source": [
    "X_train, X_test, y_train, y_test = train_test_split (X, y, test_size = 0.4, random_state = 42)\n",
    "from sklearn.decomposition import PCA\n",
    "pca=PCA(n_components=20)\n",
    "X_train=pca.fit_transform(X_train)\n",
    "X_test=pca.transform(X_test)\n",
    "from sklearn.preprocessing import StandardScaler\n",
    "scaler = StandardScaler()\n",
    "X_train = scaler.fit_transform(X_train)\n",
    "X_test = scaler.transform(X_test)\n"
   ]
  },
  {
   "cell_type": "code",
   "execution_count": 84,
   "id": "533c863f",
   "metadata": {},
   "outputs": [
    {
     "data": {
      "text/plain": [
       "SVC()"
      ]
     },
     "execution_count": 84,
     "metadata": {},
     "output_type": "execute_result"
    }
   ],
   "source": [
    "from sklearn.svm import SVC\n",
    "classifier = SVC(kernel = 'rbf')\n",
    "classifier.fit(X_train, y_train)"
   ]
  },
  {
   "cell_type": "code",
   "execution_count": 85,
   "id": "cb1b1545",
   "metadata": {},
   "outputs": [
    {
     "name": "stdout",
     "output_type": "stream",
     "text": [
      "0.8409961685823755\n",
      "0.8366855997327096\n"
     ]
    }
   ],
   "source": [
    "y_pred = classifier.predict(X_test)\n",
    "print (classifier.score(X_train, y_train))\n",
    "print (classifier.score(X_test, y_test))"
   ]
  },
  {
   "cell_type": "code",
   "execution_count": 86,
   "id": "1d524b0f",
   "metadata": {},
   "outputs": [
    {
     "name": "stdout",
     "output_type": "stream",
     "text": [
      "              precision    recall  f1-score   support\n",
      "\n",
      "   Blackhole       0.97      0.92      0.95      3308\n",
      "   Diversion       1.00      0.97      0.99      2261\n",
      "      Normal       1.00      1.00      1.00      1493\n",
      "    Overflow       0.99      0.42      0.59       399\n",
      "    PortScan       0.92      0.55      0.69      3807\n",
      "     TCP-SYN       0.62      0.95      0.75      3697\n",
      "\n",
      "    accuracy                           0.84     14965\n",
      "   macro avg       0.92      0.80      0.83     14965\n",
      "weighted avg       0.88      0.84      0.83     14965\n",
      "\n",
      "Validation Accuracy:  0.8366855997327096\n",
      "None\n"
     ]
    }
   ],
   "source": [
    "from sklearn.metrics import confusion_matrix, ConfusionMatrixDisplay, classification_report, accuracy_score \n",
    "\n",
    "print (classification_report(y_test, y_pred))\n",
    "\n",
    "print (print(\"Validation Accuracy: \", accuracy_score(y_test, y_pred)))"
   ]
  },
  {
   "cell_type": "code",
   "execution_count": 87,
   "id": "eb3f1e68",
   "metadata": {},
   "outputs": [
    {
     "data": {
      "image/png": "[encoded data removed]",
      "text/plain": [
       "<Figure size 432x288 with 2 Axes>"
      ]
     },
     "metadata": {
      "needs_background": "light"
     },
     "output_type": "display_data"
    }
   ],
   "source": [
    "cm = confusion_matrix(y_test, y_pred) \n",
    "disp = ConfusionMatrixDisplay(confusion_matrix = cm, display_labels = classifier.classes_)\n",
    "disp.plot()\n",
    "plt.show()"
   ]
  },
  {
   "cell_type": "code",
   "execution_count": 89,
   "id": "fd997882",
   "metadata": {},
   "outputs": [],
   "source": [
    "kernals=['linear', 'poly', 'rbf', 'sigmoid']\n",
    "SVMTrainScores=[]\n",
    "SVMTestScores=[]\n",
    "SVMAccuracy=[]\n",
    "for k in kernals :\n",
    "    X_train, X_test, y_train, y_test = train_test_split (X, y, test_size = 0.4, random_state = 42)\n",
    "    pca=PCA(n_components=20)\n",
    "    X_train=pca.fit_transform(X_train)\n",
    "    X_test=pca.transform(X_test)\n",
    "    X_train = scaler.fit_transform(X_train)\n",
    "    X_test = scaler.transform(X_test)\n",
    "    classifier = SVC(kernel = k)\n",
    "    classifier.fit(X_train, y_train)\n",
    "    SVMTrainScores.append(classifier.score(X_train, y_train))\n",
    "    SVMTestScores.append(classifier.score(X_test, y_test))\n",
    "    y_pred = classifier.predict(X_test)\n",
    "    SVMAccuracy.append(accuracy_score(y_test, y_pred))\n"
   ]
  },
  {
   "cell_type": "code",
   "execution_count": 90,
   "id": "f7eca9e3",
   "metadata": {},
   "outputs": [
    {
     "data": {
      "image/png": "[encoded data removed]",
      "text/plain": [
       "<Figure size 432x288 with 1 Axes>"
      ]
     },
     "metadata": {
      "needs_background": "light"
     },
     "output_type": "display_data"
    }
   ],
   "source": [
    "plt.title('Different SVM kernals')\n",
    "plt.scatter(kernals, SVMAccuracy, label='Validation Accuracy')\n",
    "plt.legend()\n",
    "plt.xlabel('Kernel')\n",
    "plt.ylabel('Validation Accuracy')\n",
    "plt.show()"
   ]
  },
  {
   "cell_type": "code",
   "execution_count": 91,
   "id": "12984ec6",
   "metadata": {},
   "outputs": [
    {
     "data": {
      "image/png": "[encoded data removed]",
      "text/plain": [
       "<Figure size 432x288 with 1 Axes>"
      ]
     },
     "metadata": {
      "needs_background": "light"
     },
     "output_type": "display_data"
    }
   ],
   "source": [
    "plt.title('Different SVM kernals')\n",
    "plt.plot(kernals, SVMTrainScores, label='Training Accuracy')\n",
    "plt.plot(kernals, SVMTestScores, label='Testing accuracy')\n",
    "plt.legend()\n",
    "plt.xlabel('Kernel')\n",
    "plt.ylabel('Accuracy')\n",
    "plt.show()"
   ]
  },
  {
   "cell_type": "code",
   "execution_count": 95,
   "id": "554295df",
   "metadata": {},
   "outputs": [],
   "source": [
    "X_train, X_test, y_train, y_test = train_test_split (X, y, test_size = 0.4, random_state = 42)\n",
    "from sklearn.decomposition import PCA\n",
    "pca=PCA(n_components=20)\n",
    "X_train=pca.fit_transform(X_train)\n",
    "X_test=pca.transform(X_test)"
   ]
  },
  {
   "cell_type": "code",
   "execution_count": 96,
   "id": "dacd27a4",
   "metadata": {},
   "outputs": [
    {
     "data": {
      "text/plain": [
       "DecisionTreeClassifier()"
      ]
     },
     "execution_count": 96,
     "metadata": {},
     "output_type": "execute_result"
    }
   ],
   "source": [
    "from sklearn.tree import DecisionTreeClassifier as DTC\n",
    "dtcclassifer = DTC()\n",
    "dtcclassifer.fit(X_train, y_train)"
   ]
  },
  {
   "cell_type": "code",
   "execution_count": 97,
   "id": "d0a96414",
   "metadata": {},
   "outputs": [
    {
     "name": "stdout",
     "output_type": "stream",
     "text": [
      "1.0\n",
      "0.9015035081857667\n"
     ]
    }
   ],
   "source": [
    "y_pred = dtcclassifer.predict(X_test)\n",
    "print (dtcclassifer.score(X_train, y_train))\n",
    "print (dtcclassifer.score(X_test, y_test))"
   ]
  },
  {
   "cell_type": "code",
   "execution_count": 98,
   "id": "b68f9e1f",
   "metadata": {},
   "outputs": [
    {
     "name": "stdout",
     "output_type": "stream",
     "text": [
      "              precision    recall  f1-score   support\n",
      "\n",
      "   Blackhole       0.95      0.95      0.95      3308\n",
      "   Diversion       0.98      0.99      0.99      2261\n",
      "      Normal       1.00      1.00      1.00      1493\n",
      "    Overflow       0.65      0.63      0.64       399\n",
      "    PortScan       0.85      0.86      0.86      3807\n",
      "     TCP-SYN       0.84      0.84      0.84      3697\n",
      "\n",
      "    accuracy                           0.90     14965\n",
      "   macro avg       0.88      0.88      0.88     14965\n",
      "weighted avg       0.90      0.90      0.90     14965\n",
      "\n",
      "Validation Accuracy:  0.9015035081857667\n",
      "None\n"
     ]
    }
   ],
   "source": [
    "print (classification_report(y_test, y_pred))\n",
    "print (print(\"Validation Accuracy: \",accuracy_score(y_test, y_pred)))"
   ]
  },
  {
   "cell_type": "code",
   "execution_count": 99,
   "id": "c3dd5451",
   "metadata": {},
   "outputs": [
    {
     "data": {
      "image/png": "[encoded data removed]",
      "text/plain": [
       "<Figure size 432x288 with 2 Axes>"
      ]
     },
     "metadata": {
      "needs_background": "light"
     },
     "output_type": "display_data"
    }
   ],
   "source": [
    "cm = confusion_matrix(y_test, y_pred) \n",
    "disp = ConfusionMatrixDisplay(confusion_matrix = cm, display_labels = dtcclassifer.classes_)\n",
    "disp.plot()\n",
    "plt.show()"
   ]
  },
  {
   "cell_type": "code",
   "execution_count": 100,
   "id": "81720909",
   "metadata": {},
   "outputs": [],
   "source": [
    "X_train, X_test, y_train, y_test = train_test_split (X, y, test_size = 0.4, random_state = 42)\n",
    "from sklearn.decomposition import PCA\n",
    "pca=PCA(n_components=20)\n",
    "X_train=pca.fit_transform(X_train)\n",
    "X_test=pca.transform(X_test)\n",
    "scaler = StandardScaler()\n",
    "X_train = scaler.fit_transform(X_train)\n",
    "X_test = scaler.transform(X_test)\n"
   ]
  },
  {
   "cell_type": "code",
   "execution_count": 101,
   "id": "fd23750e",
   "metadata": {},
   "outputs": [
    {
     "name": "stderr",
     "output_type": "stream",
     "text": [
      "C:\\Users\\anude\\anaconda3\\lib\\site-packages\\sklearn\\linear_model\\_logistic.py:814: ConvergenceWarning: lbfgs failed to converge (status=1):\n",
      "STOP: TOTAL NO. of ITERATIONS REACHED LIMIT.\n",
      "\n",
      "Increase the number of iterations (max_iter) or scale the data as shown in:\n",
      "    https://scikit-learn.org/stable/modules/preprocessing.html\n",
      "Please also refer to the documentation for alternative solver options:\n",
      "    https://scikit-learn.org/stable/modules/linear_model.html#logistic-regression\n",
      "  n_iter_i = _check_optimize_result(\n"
     ]
    },
    {
     "data": {
      "text/plain": [
       "LogisticRegression(random_state=0)"
      ]
     },
     "execution_count": 101,
     "metadata": {},
     "output_type": "execute_result"
    }
   ],
   "source": [
    "from sklearn.linear_model import LogisticRegression\n",
    "lr =  LogisticRegression(random_state = 0)\n",
    "lr.fit(X_train, y_train)\n"
   ]
  },
  {
   "cell_type": "code",
   "execution_count": 102,
   "id": "de0dc52b",
   "metadata": {},
   "outputs": [
    {
     "name": "stdout",
     "output_type": "stream",
     "text": [
      "0.8417535418337343\n",
      "0.84029401937855\n"
     ]
    }
   ],
   "source": [
    "y_pred = lr.predict(X_test)\n",
    "print (lr.score(X_train, y_train))\n",
    "print (lr.score(X_test, y_test))"
   ]
  },
  {
   "cell_type": "code",
   "execution_count": 103,
   "id": "52746fd0",
   "metadata": {},
   "outputs": [
    {
     "name": "stdout",
     "output_type": "stream",
     "text": [
      "              precision    recall  f1-score   support\n",
      "\n",
      "   Blackhole       0.96      0.93      0.95      3308\n",
      "   Diversion       1.00      0.97      0.98      2261\n",
      "      Normal       1.00      1.00      1.00      1493\n",
      "    Overflow       0.74      0.31      0.44       399\n",
      "    PortScan       0.87      0.61      0.72      3807\n",
      "     TCP-SYN       0.64      0.91      0.75      3697\n",
      "\n",
      "    accuracy                           0.84     14965\n",
      "   macro avg       0.87      0.79      0.81     14965\n",
      "weighted avg       0.86      0.84      0.84     14965\n",
      "\n",
      "Validation Accuracy:  0.84029401937855\n",
      "None\n"
     ]
    }
   ],
   "source": [
    "print (classification_report(y_test, y_pred))\n",
    "\n",
    "print (print(\"Validation Accuracy: \",accuracy_score(y_test, y_pred)))"
   ]
  },
  {
   "cell_type": "code",
   "execution_count": 104,
   "id": "a2abe050",
   "metadata": {},
   "outputs": [
    {
     "data": {
      "image/png": "[encoded data removed]",
      "text/plain": [
       "<Figure size 432x288 with 2 Axes>"
      ]
     },
     "metadata": {
      "needs_background": "light"
     },
     "output_type": "display_data"
    }
   ],
   "source": [
    "cm = confusion_matrix(y_test, y_pred) \n",
    "disp = ConfusionMatrixDisplay(confusion_matrix=cm, display_labels=lr.classes_)\n",
    "disp.plot()\n",
    "plt.show()"
   ]
  },
  {
   "cell_type": "code",
   "execution_count": 105,
   "id": "7ce97c15",
   "metadata": {},
   "outputs": [
    {
     "name": "stderr",
     "output_type": "stream",
     "text": [
      "C:\\Users\\anude\\anaconda3\\lib\\site-packages\\sklearn\\linear_model\\_logistic.py:814: ConvergenceWarning: lbfgs failed to converge (status=1):\n",
      "STOP: TOTAL NO. of ITERATIONS REACHED LIMIT.\n",
      "\n",
      "Increase the number of iterations (max_iter) or scale the data as shown in:\n",
      "    https://scikit-learn.org/stable/modules/preprocessing.html\n",
      "Please also refer to the documentation for alternative solver options:\n",
      "    https://scikit-learn.org/stable/modules/linear_model.html#logistic-regression\n",
      "  n_iter_i = _check_optimize_result(\n",
      "C:\\Users\\anude\\anaconda3\\lib\\site-packages\\sklearn\\linear_model\\_logistic.py:814: ConvergenceWarning: lbfgs failed to converge (status=1):\n",
      "STOP: TOTAL NO. of ITERATIONS REACHED LIMIT.\n",
      "\n",
      "Increase the number of iterations (max_iter) or scale the data as shown in:\n",
      "    https://scikit-learn.org/stable/modules/preprocessing.html\n",
      "Please also refer to the documentation for alternative solver options:\n",
      "    https://scikit-learn.org/stable/modules/linear_model.html#logistic-regression\n",
      "  n_iter_i = _check_optimize_result(\n",
      "C:\\Users\\anude\\anaconda3\\lib\\site-packages\\sklearn\\linear_model\\_logistic.py:814: ConvergenceWarning: lbfgs failed to converge (status=1):\n",
      "STOP: TOTAL NO. of ITERATIONS REACHED LIMIT.\n",
      "\n",
      "Increase the number of iterations (max_iter) or scale the data as shown in:\n",
      "    https://scikit-learn.org/stable/modules/preprocessing.html\n",
      "Please also refer to the documentation for alternative solver options:\n",
      "    https://scikit-learn.org/stable/modules/linear_model.html#logistic-regression\n",
      "  n_iter_i = _check_optimize_result(\n",
      "C:\\Users\\anude\\anaconda3\\lib\\site-packages\\sklearn\\linear_model\\_logistic.py:814: ConvergenceWarning: lbfgs failed to converge (status=1):\n",
      "STOP: TOTAL NO. of ITERATIONS REACHED LIMIT.\n",
      "\n",
      "Increase the number of iterations (max_iter) or scale the data as shown in:\n",
      "    https://scikit-learn.org/stable/modules/preprocessing.html\n",
      "Please also refer to the documentation for alternative solver options:\n",
      "    https://scikit-learn.org/stable/modules/linear_model.html#logistic-regression\n",
      "  n_iter_i = _check_optimize_result(\n",
      "C:\\Users\\anude\\anaconda3\\lib\\site-packages\\sklearn\\linear_model\\_logistic.py:814: ConvergenceWarning: lbfgs failed to converge (status=1):\n",
      "STOP: TOTAL NO. of ITERATIONS REACHED LIMIT.\n",
      "\n",
      "Increase the number of iterations (max_iter) or scale the data as shown in:\n",
      "    https://scikit-learn.org/stable/modules/preprocessing.html\n",
      "Please also refer to the documentation for alternative solver options:\n",
      "    https://scikit-learn.org/stable/modules/linear_model.html#logistic-regression\n",
      "  n_iter_i = _check_optimize_result(\n"
     ]
    }
   ],
   "source": [
    "numberOfFeatures=[5,10,15,20,25,30]\n",
    "validationAccuracy=[]\n",
    "for n in numberOfFeatures:\n",
    "    X_train, X_test, y_train, y_test = train_test_split (X, y, test_size = 0.4, random_state = 42)\n",
    "     \n",
    "    pca=PCA(n_components=n)\n",
    "    X_train=pca.fit_transform(X_train)\n",
    "    X_test=pca.fit_transform(X_test)\n",
    "    \n",
    "    X_train = scaler.fit_transform(X_train)\n",
    "    X_test = scaler.fit_transform(X_test)\n",
    "   \n",
    "    lr =  LogisticRegression(random_state = 0)\n",
    "    lr.fit(X_train, y_train)\n",
    "    y_pred = lr.predict(X_test)\n",
    "    validationAccuracy.append(accuracy_score(y_test, y_pred)) "
   ]
  },
  {
   "cell_type": "code",
   "execution_count": 106,
   "id": "dbcd6d49",
   "metadata": {},
   "outputs": [
    {
     "data": {
      "image/png": "[encoded data removed]",
      "text/plain": [
       "<Figure size 432x288 with 1 Axes>"
      ]
     },
     "metadata": {
      "needs_background": "light"
     },
     "output_type": "display_data"
    }
   ],
   "source": [
    "plt.title('Logistic Regression Varying number of features')\n",
    "plt.scatter(numberOfFeatures, validationAccuracy, label='Validation Accuracy')\n",
    "plt.legend()\n",
    "plt.xlabel('Number of features selected')\n",
    "plt.ylabel('Validation Accuracy')\n",
    "plt.show()"
   ]
  },
  {
   "cell_type": "code",
   "execution_count": 113,
   "id": "a0065f16",
   "metadata": {},
   "outputs": [
    {
     "name": "stdout",
     "output_type": "stream",
     "text": [
      "              precision    recall  f1-score   support\n",
      "\n",
      "   Blackhole       0.98      0.96      0.97      3308\n",
      "   Diversion       1.00      0.99      0.99      2261\n",
      "      Normal       1.00      1.00      1.00      1493\n",
      "    Overflow       0.98      0.65      0.78       399\n",
      "    PortScan       0.90      0.90      0.90      3807\n",
      "     TCP-SYN       0.87      0.93      0.89      3697\n",
      "\n",
      "    accuracy                           0.94     14965\n",
      "   macro avg       0.95      0.90      0.92     14965\n",
      "weighted avg       0.94      0.94      0.94     14965\n",
      "\n",
      "Validation Accuracy:  0.935315736719011\n",
      "None\n"
     ]
    }
   ],
   "source": [
    "X_train, X_test, y_train, y_test = train_test_split (X, y, test_size = 0.4, random_state = 42)\n",
    "pca=PCA(n_components=20)\n",
    "X_train=pca.fit_transform(X_train)\n",
    "X_test=pca.transform(X_test)\n",
    "\n",
    "from sklearn.ensemble import RandomForestClassifier\n",
    "clfRandomForest = RandomForestClassifier(max_depth=25, random_state=0)\n",
    "clfRandomForest.fit(X_train,y_train)\n",
    "y_predRandomForest=clfRandomForest.predict(X_test)\n",
    "print (classification_report(y_test, y_predRandomForest))\n",
    "\n",
    "print (print(\"Validation Accuracy: \", accuracy_score(y_test, y_predRandomForest)))"
   ]
  },
  {
   "cell_type": "code",
   "execution_count": 114,
   "id": "832de849",
   "metadata": {},
   "outputs": [
    {
     "data": {
      "image/png": "[encoded data removed]",
      "text/plain": [
       "<Figure size 432x288 with 2 Axes>"
      ]
     },
     "metadata": {
      "needs_background": "light"
     },
     "output_type": "display_data"
    }
   ],
   "source": [
    "cm = confusion_matrix(y_test, y_predRandomForest) \n",
    "disp = ConfusionMatrixDisplay(confusion_matrix = cm, display_labels =clfRandomForest.classes_ )\n",
    "disp.plot()\n",
    "plt.show()"
   ]
  },
  {
   "cell_type": "code",
   "execution_count": 116,
   "id": "2b3efcc1",
   "metadata": {},
   "outputs": [],
   "source": [
    "max_depth_array=[5,10,15,20,25]\n",
    "validationAccuracyRF=[]\n",
    "for md in max_depth_array:\n",
    "    pca=PCA(n_components=20)\n",
    "    X_train=pca.fit_transform(X_train)\n",
    "    X_test=pca.transform(X_test)\n",
    "    clfRandomForest = RandomForestClassifier(max_depth=md, random_state=0)\n",
    "    clfRandomForest.fit(X_train,y_train)\n",
    "    y_predRandomForest=clfRandomForest.predict(X_test)\n",
    "    validationAccuracyRF.append(accuracy_score(y_test, y_predRandomForest))"
   ]
  },
  {
   "cell_type": "code",
   "execution_count": 118,
   "id": "bbc41be0",
   "metadata": {},
   "outputs": [
    {
     "data": {
      "image/png": "[encoded data removed]",
      "text/plain": [
       "<Figure size 432x288 with 1 Axes>"
      ]
     },
     "metadata": {
      "needs_background": "light"
     },
     "output_type": "display_data"
    }
   ],
   "source": [
    "plt.title('Random forest varying number of splits')\n",
    "plt.scatter(max_depth_array, validationAccuracyRF, label='Validation Accuracy')\n",
    "plt.legend()\n",
    "plt.xlabel('Number of splits selected')\n",
    "plt.ylabel('Validation Accuracy')\n",
    "plt.show()"
   ]
  },
  {
   "cell_type": "code",
   "execution_count": null,
   "id": "80adce97",
   "metadata": {},
   "outputs": [],
   "source": []
  }
 ],
 "metadata": {
  "kernelspec": {
   "display_name": "Python 3 (ipykernel)",
   "language": "python",
   "name": "python3"
  },
  "language_info": {
   "codemirror_mode": {
    "name": "ipython",
    "version": 3
   },
   "file_extension": ".py",
   "mimetype": "text/x-python",
   "name": "python",
   "nbconvert_exporter": "python",
   "pygments_lexer": "ipython3",
   "version": "3.9.12"
  }
 },
 "nbformat": 4,
 "nbformat_minor": 5
}
